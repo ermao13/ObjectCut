{
 "cells": [
  {
   "cell_type": "code",
   "execution_count": null,
   "metadata": {},
   "outputs": [],
   "source": [
    "import cv2\n",
    "import numpy as np\n",
    "import os"
   ]
  },
  {
   "cell_type": "code",
   "execution_count": null,
   "metadata": {},
   "outputs": [],
   "source": [
    "file_dir = r'E:\\Machine Learning\\findContours'\n",
    "save_dir = r'E:\\Machine Learning\\cannyfile'"
   ]
  },
  {
   "cell_type": "code",
   "execution_count": null,
   "metadata": {},
   "outputs": [],
   "source": [
    "#定义边缘检测函数\n",
    "def edge(img):\n",
    "    #高斯模糊,降低噪声\n",
    "    blurred = cv2.GaussianBlur(img, (3, 3), 0)\n",
    "    #灰度图像\n",
    "    gray = cv2.cvtColor(blurred, cv2.COLOR_RGB2GRAY)\n",
    "    #图像梯度\n",
    "    xgrad = cv2.Sobel(gray, cv2.CV_16SC1, 1, 0)\n",
    "    ygrad = cv2.Sobel(gray, cv2.CV_16SC1, 0, 1)\n",
    "    #计算边缘，50和150参数必须符合1：3或者1：2，用粗筛判定低阈值\n",
    "    edge_output = cv2.Canny(xgrad, ygrad, 35, 105)\n",
    "    return edge_output"
   ]
  },
  {
   "cell_type": "code",
   "execution_count": null,
   "metadata": {},
   "outputs": [],
   "source": [
    "#产生边缘图像-批量\n",
    "def create_object_image():\n",
    "    i = 0\n",
    "    for imgfile in os.listdir(file_dir):   \n",
    "        img_info = os.path.join(file_dir, imgfile)\n",
    "        img_array = cv2.imread(img_info)\n",
    "        edgeSav = edge(img_array)\n",
    "        save_dir = r'E:\\Machine Learning\\cannyfile\\{}'.format(imgfile)\n",
    "        cv2.imwrite(save_dir, edgeSav)\n",
    "        i += 1\n",
    "    return\n",
    "create_object_image() "
   ]
  },
  {
   "cell_type": "code",
   "execution_count": null,
   "metadata": {},
   "outputs": [],
   "source": [
    "#产生轮廓提取图像-批量\n",
    "def Ref_Process():\n",
    "    i = 0\n",
    "    for imgfile in os.listdir(save_dir):\n",
    "        img_info = os.path.join(save_dir, imgfile)\n",
    "        img_array = cv2.imread(img_info)\n",
    "        rawImg_info = os.path.join(file_dir, imgfile)\n",
    "        rawImg_array = cv2.imread(rawImg_info)\n",
    "                \n",
    "        blurred = cv2.GaussianBlur(img_array, (3, 3), 0)\n",
    "        gray = cv2.cvtColor(blurred, cv2.COLOR_RGB2GRAY)\n",
    "        ret, binary = cv2.threshold(gray, 0, 255, cv2.THRESH_BINARY_INV)\n",
    "        kernel = cv2.getStructuringElement(cv2.MORPH_RECT, (5, 5))\n",
    "        image = cv2.morphologyEx(binary, cv2.MORPH_CLOSE, kernel)\n",
    "        \n",
    "        kernelX = cv2.getStructuringElement(cv2.MORPH_RECT, (10, 1))\n",
    "        kernelY = cv2.getStructuringElement(cv2.MORPH_RECT, (1, 9))\n",
    "        image = cv2.dilate(image, kernelX)\n",
    "        image = cv2.erode(image, kernelX)\n",
    "        image = cv2.erode(image, kernelY)\n",
    "        image = cv2.dilate(image, kernelY)\n",
    "        \n",
    "        image = cv2.GaussianBlur(image, (11,11), 0)\n",
    "        \n",
    "        contours, hierarchy = cv2.findContours(image, cv2.RETR_TREE, cv2.CHAIN_APPROX_SIMPLE) \n",
    "        c = sorted(contours, key=cv2.contourArea, reverse=True)[1]\n",
    "        rect = cv2.minAreaRect(c)\n",
    "        box = np.int0(cv2.boxPoints(rect))\n",
    "        image = cv2.drawContours(rawImg_array,  [box], -1, (0, 0, 255), 3)\n",
    "         \n",
    "        save_dir2 = r'E:\\Machine Learning\\Refine_file\\{}'.format(imgfile)\n",
    "        cv2.imwrite(save_dir2, image)\n",
    "        i += 1\n",
    "    return\n",
    "Ref_Process()"
   ]
  }
 ],
 "metadata": {
  "kernelspec": {
   "display_name": "Python 3",
   "language": "python",
   "name": "python3"
  },
  "language_info": {
   "codemirror_mode": {
    "name": "ipython",
    "version": 3
   },
   "file_extension": ".py",
   "mimetype": "text/x-python",
   "name": "python",
   "nbconvert_exporter": "python",
   "pygments_lexer": "ipython3",
   "version": "3.7.1"
  },
  "toc": {
   "base_numbering": 1,
   "nav_menu": {},
   "number_sections": true,
   "sideBar": true,
   "skip_h1_title": false,
   "title_cell": "Table of Contents",
   "title_sidebar": "Contents",
   "toc_cell": false,
   "toc_position": {},
   "toc_section_display": true,
   "toc_window_display": false
  }
 },
 "nbformat": 4,
 "nbformat_minor": 2
}
