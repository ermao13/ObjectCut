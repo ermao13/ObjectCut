{
 "cells": [
  {
   "cell_type": "code",
   "execution_count": 1,
   "metadata": {},
   "outputs": [],
   "source": [
    "import cv2\n",
    "import numpy as np\n",
    "import os"
   ]
  },
  {
   "cell_type": "markdown",
   "metadata": {},
   "source": [
    "# 图片处理"
   ]
  },
  {
   "cell_type": "markdown",
   "metadata": {
    "heading_collapsed": true
   },
   "source": [
    "## 边缘检测"
   ]
  },
  {
   "cell_type": "markdown",
   "metadata": {
    "hidden": true
   },
   "source": [
    "①高斯模糊 - GaussianBlur\n",
    "②灰度转换 - cvtColor\n",
    "③计算梯度 – Sobel/Scharr\n",
    "④非最大信号抑制\n",
    "⑤高低阈值输出二值图像"
   ]
  },
  {
   "cell_type": "code",
   "execution_count": null,
   "metadata": {
    "hidden": true
   },
   "outputs": [],
   "source": [
    "rawImage = cv2.imread(r'E:\\Machine Learning\\cannyfile\\DSCN1394.JPG')"
   ]
  },
  {
   "cell_type": "code",
   "execution_count": null,
   "metadata": {
    "hidden": true
   },
   "outputs": [],
   "source": [
    "def edge(img):\n",
    "    #高斯模糊,降低噪声\n",
    "    blurred = cv2.GaussianBlur(img, (3, 3), 0)\n",
    "    #灰度图像\n",
    "    gray = cv2.cvtColor(blurred, cv2.COLOR_RGB2GRAY)\n",
    "    #图像梯度\n",
    "    xgrad = cv2.Sobel(gray, cv2.CV_16SC1, 1, 0)\n",
    "    ygrad = cv2.Sobel(gray, cv2.CV_16SC1, 0, 1)\n",
    "    #计算边缘，50和150参数必须符合1：3或者1：2，用粗筛判定低阈值\n",
    "    edge_output = cv2.Canny(xgrad, ygrad, 35, 105)\n",
    "    return edge_output"
   ]
  },
  {
   "cell_type": "code",
   "execution_count": null,
   "metadata": {
    "hidden": true
   },
   "outputs": [],
   "source": [
    "EdgeSav = edge(rawImage)\n",
    "cv2.imwrite(r'E:\\Machine Learning\\findContours\\test3.jpg', EdgeSav)"
   ]
  },
  {
   "cell_type": "code",
   "execution_count": null,
   "metadata": {
    "hidden": true
   },
   "outputs": [],
   "source": [
    "'''\n",
    "#效果图，批量时不运行\n",
    "cv2.namedWindow('edge', 0)\n",
    "cv2.imshow(\"edge\", EdgeSav)\n",
    "cv2.waitKey(0)\n",
    "cv2.destroyAllWindows()\n",
    "'''"
   ]
  },
  {
   "cell_type": "markdown",
   "metadata": {},
   "source": [
    "## 轮廓提取"
   ]
  },
  {
   "cell_type": "code",
   "execution_count": 2,
   "metadata": {},
   "outputs": [],
   "source": [
    "EdgeRef = cv2.imread(r'E:\\Machine Learning\\cannyfile\\DSCN1394.JPG')\n",
    "#GaussianBlur去除部分的干扰\n",
    "blurred = cv2.GaussianBlur(EdgeRef, (3, 3), 0)\n",
    "gray = cv2.cvtColor(blurred, cv2.COLOR_RGB2GRAY)"
   ]
  },
  {
   "cell_type": "code",
   "execution_count": 3,
   "metadata": {},
   "outputs": [],
   "source": [
    "#Sobel算子，图像边缘检测，\n",
    "Sobel_x = cv2.Sobel(gray, cv2.CV_16S, 1, 0)  #（x方向）\n",
    "Sobel_y = cv2.Sobel(gray, cv2.CV_16S, 0, 1)  #（y方向）\n",
    "\n",
    "gradX = cv2.convertScaleAbs(Sobel_x)  # 转回uint8\n",
    "gradY = cv2.convertScaleAbs(Sobel_y)\n",
    "\n",
    "gradient = cv2.addWeighted(gradX, 0.5, gradY, 0.5, 0)\n",
    "#gradient = gradX\n",
    "#gradient = gradY"
   ]
  },
  {
   "cell_type": "code",
   "execution_count": 7,
   "metadata": {},
   "outputs": [],
   "source": [
    "ret, binary = cv2.threshold(gradient, 5, 255, cv2.THRESH_BINARY)\n",
    "kernelX = cv2.getStructuringElement(cv2.MORPH_RECT, (5, 5))\n",
    "image = cv2.morphologyEx(binary, cv2.MORPH_CLOSE, kernelX)"
   ]
  },
  {
   "cell_type": "code",
   "execution_count": null,
   "metadata": {},
   "outputs": [],
   "source": [
    "#二值化开操作\n",
    "#ret, binary = cv2.threshold(gray, 0, 255, cv2.THRESH_BINARY_INV) #阈值\n",
    "kernelX = cv2.getStructuringElement(cv2.MORPH_RECT, (5, 5))\n",
    "image = cv2.morphologyEx(binary, cv2.MORPH_OPEN, kernelX)"
   ]
  },
  {
   "cell_type": "code",
   "execution_count": 9,
   "metadata": {},
   "outputs": [],
   "source": [
    "#膨胀腐蚀，通过膨胀连接相近的图像区域，通过腐蚀去除孤立细小的色块。（闭操作again，细调）\n",
    "kernelX = cv2.getStructuringElement(cv2.MORPH_RECT, (20, 1))\n",
    "kernelY = cv2.getStructuringElement(cv2.MORPH_RECT, (1, 19))\n",
    "\n",
    "\n",
    "image = cv2.dilate(image, kernelX)\n",
    "image = cv2.erode(image, kernelX)\n",
    "\n",
    "image = cv2.dilate(image, kernelY)\n",
    "image = cv2.erode(image, kernelY)"
   ]
  },
  {
   "cell_type": "code",
   "execution_count": 16,
   "metadata": {},
   "outputs": [],
   "source": [
    "#中值滤波，滤去噪声\n",
    "image = cv2.medianBlur(image, 5)"
   ]
  },
  {
   "cell_type": "code",
   "execution_count": 14,
   "metadata": {},
   "outputs": [],
   "source": [
    "rawImage = r'E:\\Machine Learning\\findContours\\DSCN1394.JPG'"
   ]
  },
  {
   "cell_type": "code",
   "execution_count": 15,
   "metadata": {},
   "outputs": [
    {
     "ename": "TypeError",
     "evalue": "Expected cv::UMat for argument 'image'",
     "output_type": "error",
     "traceback": [
      "\u001b[1;31m---------------------------------------------------------------------------\u001b[0m",
      "\u001b[1;31mTypeError\u001b[0m                                 Traceback (most recent call last)",
      "\u001b[1;32m<ipython-input-15-a0f4e5ca5bbc>\u001b[0m in \u001b[0;36m<module>\u001b[1;34m\u001b[0m\n\u001b[0;32m      3\u001b[0m \u001b[0mrect\u001b[0m \u001b[1;33m=\u001b[0m \u001b[0mcv2\u001b[0m\u001b[1;33m.\u001b[0m\u001b[0mminAreaRect\u001b[0m\u001b[1;33m(\u001b[0m\u001b[0mc\u001b[0m\u001b[1;33m)\u001b[0m\u001b[1;33m\u001b[0m\u001b[1;33m\u001b[0m\u001b[0m\n\u001b[0;32m      4\u001b[0m \u001b[0mbox\u001b[0m \u001b[1;33m=\u001b[0m \u001b[0mnp\u001b[0m\u001b[1;33m.\u001b[0m\u001b[0mint0\u001b[0m\u001b[1;33m(\u001b[0m\u001b[0mcv2\u001b[0m\u001b[1;33m.\u001b[0m\u001b[0mboxPoints\u001b[0m\u001b[1;33m(\u001b[0m\u001b[0mrect\u001b[0m\u001b[1;33m)\u001b[0m\u001b[1;33m)\u001b[0m\u001b[1;33m\u001b[0m\u001b[1;33m\u001b[0m\u001b[0m\n\u001b[1;32m----> 5\u001b[1;33m \u001b[0mimage\u001b[0m \u001b[1;33m=\u001b[0m \u001b[0mcv2\u001b[0m\u001b[1;33m.\u001b[0m\u001b[0mdrawContours\u001b[0m\u001b[1;33m(\u001b[0m\u001b[0mrawImage\u001b[0m\u001b[1;33m,\u001b[0m \u001b[1;33m[\u001b[0m\u001b[0mbox\u001b[0m\u001b[1;33m]\u001b[0m\u001b[1;33m,\u001b[0m \u001b[1;33m-\u001b[0m\u001b[1;36m1\u001b[0m\u001b[1;33m,\u001b[0m \u001b[1;33m(\u001b[0m\u001b[1;36m0\u001b[0m\u001b[1;33m,\u001b[0m \u001b[1;36m0\u001b[0m\u001b[1;33m,\u001b[0m \u001b[1;36m255\u001b[0m\u001b[1;33m)\u001b[0m\u001b[1;33m,\u001b[0m \u001b[1;36m3\u001b[0m\u001b[1;33m)\u001b[0m\u001b[1;33m\u001b[0m\u001b[1;33m\u001b[0m\u001b[0m\n\u001b[0m",
      "\u001b[1;31mTypeError\u001b[0m: Expected cv::UMat for argument 'image'"
     ]
    }
   ],
   "source": [
    "contours, hierarchy = cv2.findContours(image, cv2.RETR_TREE, cv2.CHAIN_APPROX_SIMPLE) \n",
    "c = sorted(contours, key=cv2.contourArea, reverse=True)[0]\n",
    "rect = cv2.minAreaRect(c)\n",
    "box = np.int0(cv2.boxPoints(rect))\n",
    "image = cv2.drawContours(rawImage, [box], -1, (0, 0, 255), 3)"
   ]
  },
  {
   "cell_type": "markdown",
   "metadata": {},
   "source": [
    "## 原图剪切"
   ]
  },
  {
   "cell_type": "markdown",
   "metadata": {},
   "source": [
    "# 效果显示"
   ]
  },
  {
   "cell_type": "code",
   "execution_count": 13,
   "metadata": {},
   "outputs": [],
   "source": [
    "cv2.namedWindow('image', 0)\n",
    "cv2.imshow('image', image)\n",
    "cv2.waitKey(0)\n",
    "cv2.destroyAllWindows()"
   ]
  },
  {
   "cell_type": "code",
   "execution_count": null,
   "metadata": {},
   "outputs": [],
   "source": []
  }
 ],
 "metadata": {
  "kernelspec": {
   "display_name": "Python 3",
   "language": "python",
   "name": "python3"
  },
  "language_info": {
   "codemirror_mode": {
    "name": "ipython",
    "version": 3
   },
   "file_extension": ".py",
   "mimetype": "text/x-python",
   "name": "python",
   "nbconvert_exporter": "python",
   "pygments_lexer": "ipython3",
   "version": "3.7.1"
  },
  "toc": {
   "base_numbering": 1,
   "nav_menu": {},
   "number_sections": true,
   "sideBar": true,
   "skip_h1_title": false,
   "title_cell": "Table of Contents",
   "title_sidebar": "Contents",
   "toc_cell": false,
   "toc_position": {},
   "toc_section_display": true,
   "toc_window_display": false
  }
 },
 "nbformat": 4,
 "nbformat_minor": 2
}
