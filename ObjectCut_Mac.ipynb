{
 "cells": [
  {
   "cell_type": "code",
   "execution_count": 1,
   "metadata": {},
   "outputs": [],
   "source": [
    "import cv2\n",
    "import numpy as np"
   ]
  },
  {
   "cell_type": "code",
   "execution_count": 18,
   "metadata": {},
   "outputs": [],
   "source": [
    "image = cv2.imread(r'findContours/DSCN9383.JPG')\n",
    "gray = cv2.cvtColor(image, cv2.COLOR_BGR2GRAY)"
   ]
  },
  {
   "cell_type": "code",
   "execution_count": 21,
   "metadata": {},
   "outputs": [],
   "source": [
    "ret, binary = cv2.threshold(gray,  90, 255, cv2.THRESH_BINARY)  \n",
    "contours, hierarchy = cv2.findContours(binary, cv2.RETR_TREE, cv2.CHAIN_APPROX_SIMPLE)  \n",
    "c = sorted(contours, key=cv2.contourArea, reverse=True)[1]"
   ]
  },
  {
   "cell_type": "code",
   "execution_count": 20,
   "metadata": {},
   "outputs": [],
   "source": [
    "cv2.drawContours(image, contours, -1, (0, 255, 0), 3) #绘制所有轮廓\n",
    "cv2.namedWindow('Image', 0)\n",
    "cv2.imshow(\"Image\", image)\n",
    "cv2.waitKey(0)\n",
    "cv2.destroyAllWindows()"
   ]
  },
  {
   "cell_type": "code",
   "execution_count": 23,
   "metadata": {
    "code_folding": []
   },
   "outputs": [],
   "source": [
    "# compute the rotated bounding box of the largest contour绘制c[i]里面积第i的轮廓\n",
    "rect = cv2.minAreaRect(c)\n",
    "box = np.int0(cv2.boxPoints(rect))#寻找旋转矩形的四个顶点，返回四个顶点的list\n",
    "# draw a bounding box arounded the detected barcode and display the image\n",
    "cv2.drawContours(image, [box], -1, (0, 255, 255), 3) \n",
    "\n",
    "cv2.namedWindow('Image', 0)\n",
    "cv2.imshow(\"Image\", image)\n",
    "#cv2.imwrite(\"contoursImage2.jpg\", image)\n",
    "cv2.waitKey(0)\n",
    "cv2.destroyAllWindows()\n",
    "#cv2.drawContours(c, contours, -1, (0,0,255), 3)  "
   ]
  },
  {
   "cell_type": "code",
   "execution_count": null,
   "metadata": {},
   "outputs": [],
   "source": [
    "cv2.imshow(\"image\", image)  \n",
    "cv2.waitKey(0)  \n",
    "cv2.destroyAllWindows()"
   ]
  }
 ],
 "metadata": {
  "kernelspec": {
   "display_name": "Python 3",
   "language": "python",
   "name": "python3"
  },
  "language_info": {
   "codemirror_mode": {
    "name": "ipython",
    "version": 3
   },
   "file_extension": ".py",
   "mimetype": "text/x-python",
   "name": "python",
   "nbconvert_exporter": "python",
   "pygments_lexer": "ipython3",
   "version": "3.7.1"
  }
 },
 "nbformat": 4,
 "nbformat_minor": 2
}
