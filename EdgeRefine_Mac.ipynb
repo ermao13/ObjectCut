{
 "cells": [
  {
   "cell_type": "markdown",
   "metadata": {},
   "source": [
    "# 实现腐蚀样本区域的提取"
   ]
  },
  {
   "cell_type": "code",
   "execution_count": 1,
   "metadata": {},
   "outputs": [],
   "source": [
    "import cv2\n",
    "import numpy as np"
   ]
  },
  {
   "cell_type": "markdown",
   "metadata": {},
   "source": [
    "## 样本提取"
   ]
  },
  {
   "cell_type": "code",
   "execution_count": 2,
   "metadata": {},
   "outputs": [],
   "source": [
    "rawImage = cv2.imread(r'DSCN9383.JPG')"
   ]
  },
  {
   "cell_type": "code",
   "execution_count": 3,
   "metadata": {},
   "outputs": [],
   "source": [
    "blurred = cv2.imread(r'test2.jpg')"
   ]
  },
  {
   "cell_type": "code",
   "execution_count": null,
   "metadata": {
    "code_folding": [
     0
    ]
   },
   "outputs": [],
   "source": [
    "#直接画轮廓\n",
    "rawImage1 = cv2.imread(r'DSCN9358.JPG',0)\n",
    "equ = cv2.equalizeHist(rawImage1)\n",
    "contours, hierarchy = cv2.findContours(equ, cv2.RETR_TREE, cv2.CHAIN_APPROX_SIMPLE) \n",
    "\n",
    "image = cv2.drawContours(rawImage, contours, -1, (0, 0, 255), 3)\n",
    "cv2.namedWindow('image', 0)\n",
    "cv2.imshow('image', image)\n",
    "cv2.waitKey(0)\n",
    "cv2.destroyAllWindows()"
   ]
  },
  {
   "cell_type": "markdown",
   "metadata": {},
   "source": [
    "实现思路：\n",
    "1.高斯模糊\n",
    "2.图片灰度化\n",
    "3.Sobel算子\n",
    "4.图像二值化\n",
    "5.闭操作\n",
    "6.膨胀腐蚀\n",
    "7.中值滤波\n",
    "8.查找轮廓\n",
    "9.判断车牌区域"
   ]
  },
  {
   "cell_type": "code",
   "execution_count": null,
   "metadata": {
    "code_folding": []
   },
   "outputs": [],
   "source": [
    "#GaussianBlur去除部分的干扰\n",
    "blurred = cv2.GaussianBlur(rawImage, (3, 3), 0)\n",
    "#img = rawImage - blurred"
   ]
  },
  {
   "cell_type": "code",
   "execution_count": 4,
   "metadata": {},
   "outputs": [],
   "source": [
    "#图像灰度\n",
    "gray = cv2.cvtColor(blurred, cv2.COLOR_RGB2GRAY)"
   ]
  },
  {
   "cell_type": "code",
   "execution_count": 5,
   "metadata": {},
   "outputs": [],
   "source": [
    "#Sobel算子，图像边缘检测，\n",
    "Sobel_x = cv2.Sobel(gray, cv2.CV_16S, 1, 0)  #（x方向）\n",
    "Sobel_y = cv2.Sobel(gray, cv2.CV_16S, 0, 1)  #（y方向）\n",
    "\n",
    "gradX = cv2.convertScaleAbs(Sobel_x)  # 转回uint8\n",
    "gradY = cv2.convertScaleAbs(Sobel_y)\n",
    "\n",
    "gradient = cv2.addWeighted(gradX, 0.5, gradY, 0.5, 0)\n",
    "#gradient = gradX\n",
    "#gradient = gradY"
   ]
  },
  {
   "cell_type": "markdown",
   "metadata": {
    "heading_collapsed": true
   },
   "source": [
    "### 第一次二值化，闭操作"
   ]
  },
  {
   "cell_type": "code",
   "execution_count": null,
   "metadata": {
    "hidden": true
   },
   "outputs": [],
   "source": [
    "#图像二值化\n",
    "ret, binary = cv2.threshold(gradient, 35, 255, cv2.THRESH_OTSU) #OTSU会自动找一个灰度直方图双峰之间的合适阈值\n",
    "#binary = cv2.adaptiveThreshold(gradient, 255, cv2.ADAPTIVE_THRESH_MEAN_C, cv2.THRESH_BINARY, 51, 2)"
   ]
  },
  {
   "cell_type": "code",
   "execution_count": null,
   "metadata": {
    "hidden": true
   },
   "outputs": [],
   "source": [
    "#闭操作，将目标区域连成一个整体，便于后续轮廓的提取\n",
    "kernelX = cv2.getStructuringElement(cv2.MORPH_RECT, (5, 5))\n",
    "image = cv2.morphologyEx(binary, cv2.MORPH_CLOSE, kernelX)"
   ]
  },
  {
   "cell_type": "markdown",
   "metadata": {},
   "source": [
    "### 第二次二值化，开操作"
   ]
  },
  {
   "cell_type": "code",
   "execution_count": 6,
   "metadata": {},
   "outputs": [],
   "source": [
    "#图像二值化, for 二次\n",
    "ret, binary = cv2.threshold(gradient, 0, 255, cv2.THRESH_BINARY_INV) #OTSU会自动找一个灰度直方图双峰之间的合适阈值\n",
    "#binary = cv2.adaptiveThreshold(gradient, 255, cv2.ADAPTIVE_THRESH_MEAN_C, cv2.THRESH_BINARY, 51, 2)"
   ]
  },
  {
   "cell_type": "code",
   "execution_count": 7,
   "metadata": {},
   "outputs": [],
   "source": [
    "#开操作，断开较窄的狭颈和消除细的突出物,for 二次\n",
    "kernelX = cv2.getStructuringElement(cv2.MORPH_RECT, (3, 3))\n",
    "image = cv2.morphologyEx(binary, cv2.MORPH_OPEN, kernelX)"
   ]
  },
  {
   "cell_type": "markdown",
   "metadata": {},
   "source": [
    "### 后续"
   ]
  },
  {
   "cell_type": "code",
   "execution_count": 8,
   "metadata": {},
   "outputs": [
    {
     "data": {
      "text/plain": [
       "'两个方向上同时操作效果不如X和Y方向分别操作\\nkernel = cv2.getStructuringElement(cv2.MORPH_RECT, (20, 19))\\nimage = cv2.dilate(image, kernel)\\nimage = cv2.erode(image, kernel)'"
      ]
     },
     "execution_count": 8,
     "metadata": {},
     "output_type": "execute_result"
    }
   ],
   "source": [
    "#膨胀腐蚀，通过膨胀连接相近的图像区域，通过腐蚀去除孤立细小的色块。（闭操作again，细调）\n",
    "kernelX = cv2.getStructuringElement(cv2.MORPH_RECT, (10, 1))\n",
    "kernelY = cv2.getStructuringElement(cv2.MORPH_RECT, (1, 9))\n",
    "\n",
    "image = cv2.dilate(image, kernelX)\n",
    "image = cv2.erode(image, kernelX)\n",
    "\n",
    "image = cv2.erode(image, kernelY)\n",
    "image = cv2.dilate(image, kernelY)\n",
    "\n",
    "'''两个方向上同时操作效果不如X和Y方向分别操作\n",
    "kernel = cv2.getStructuringElement(cv2.MORPH_RECT, (20, 19))\n",
    "image = cv2.dilate(image, kernel)\n",
    "image = cv2.erode(image, kernel)'''"
   ]
  },
  {
   "cell_type": "code",
   "execution_count": 9,
   "metadata": {},
   "outputs": [],
   "source": [
    "#中值滤波，滤去噪声\n",
    "image = cv2.medianBlur(image, 15)\n",
    "#image = cv2.GaussianBlur(image, (11,11), 0)"
   ]
  },
  {
   "cell_type": "code",
   "execution_count": null,
   "metadata": {},
   "outputs": [],
   "source": [
    "#查找轮廓，并显示\n",
    "contours, hierarchy = cv2.findContours(image, cv2.RETR_TREE, cv2.CHAIN_APPROX_SIMPLE) \n",
    "image = cv2.drawContours(rawImage, contours, -1, (0, 0, 255), 3)"
   ]
  },
  {
   "cell_type": "code",
   "execution_count": 10,
   "metadata": {},
   "outputs": [],
   "source": [
    "#查找轮廓，并显示\n",
    "contours, hierarchy = cv2.findContours(image, cv2.RETR_TREE, cv2.CHAIN_APPROX_SIMPLE) \n",
    "c = sorted(contours, key=cv2.contourArea, reverse=True)[0]\n",
    "\n",
    "# compute the rotated bounding box of the largest contour\n",
    "rect = cv2.minAreaRect(c)\n",
    "box = np.int0(cv2.boxPoints(rect))\n",
    "\n",
    "# draw a bounding box arounded the detected barcode and display the image\n",
    "#cv2.drawContours(image, [box], -1, (0, 255, 0), 3) \n",
    "image = cv2.drawContours(rawImage,  [box], -1, (0, 0, 255), 3)"
   ]
  },
  {
   "cell_type": "markdown",
   "metadata": {
    "heading_collapsed": true
   },
   "source": [
    "## 在轮廓图里找轮廓"
   ]
  },
  {
   "cell_type": "code",
   "execution_count": null,
   "metadata": {
    "hidden": true
   },
   "outputs": [],
   "source": [
    "rawImage = cv2.imread(r'test1.jpg')\n",
    "rawImage1 = cv2.imread(r'DSCN9383.JPG')"
   ]
  },
  {
   "cell_type": "code",
   "execution_count": null,
   "metadata": {
    "hidden": true
   },
   "outputs": [],
   "source": [
    "#\n",
    "gray = cv2.cvtColor(rawImage, cv2.COLOR_RGB2GRAY)\n",
    "image = gray\n",
    "contours, hierarchy = cv2.findContours(image, cv2.RETR_TREE, cv2.CHAIN_APPROX_SIMPLE) \n",
    "c = sorted(contours, key=cv2.contourArea, reverse=True)[2]\n",
    "\n",
    "# compute the rotated bounding box of the largest contour\n",
    "rect = cv2.minAreaRect(c)\n",
    "box = np.int0(cv2.boxPoints(rect))\n",
    "\n",
    "# draw a bounding box arounded the detected barcode and display the image\n",
    "#image = cv2.drawContours(rawImage1, [box], -1, (0, 255, 0), 3)\n",
    "image = cv2.drawContours(rawImage1, contours, -1, (0, 255, 0), 3)"
   ]
  },
  {
   "cell_type": "code",
   "execution_count": null,
   "metadata": {
    "code_folding": [
     0
    ],
    "hidden": true
   },
   "outputs": [],
   "source": [
    "#裁剪区域\n",
    "for item in contours:\n",
    "    rect = cv2.boundingRect(item)\n",
    "    x = rect[0]\n",
    "    y = rect[1]\n",
    "    weight = rect[2]\n",
    "    height = rect[3]\n",
    "    if weight > 100 and height > 400:\n",
    "        # 裁剪区域图片\n",
    "        chepai = rawImage[y:y + height, x:x + weight]\n",
    "        cv2.imshow('chepai'+str(x), chepai)\n",
    "        cv2.waitKey(0)\n",
    "        cv2.destroyAllWindows()"
   ]
  },
  {
   "cell_type": "markdown",
   "metadata": {
    "heading_collapsed": true
   },
   "source": [
    "# 边缘检测先取轮廓"
   ]
  },
  {
   "cell_type": "markdown",
   "metadata": {
    "hidden": true
   },
   "source": [
    "①高斯模糊 - GaussianBlur\n",
    "②灰度转换 - cvtColor\n",
    "③计算梯度 – Sobel/Scharr\n",
    "④非最大信号抑制\n",
    "⑤高低阈值输出二值图像"
   ]
  },
  {
   "cell_type": "code",
   "execution_count": null,
   "metadata": {
    "hidden": true
   },
   "outputs": [],
   "source": [
    "import cv2\n",
    "import numpy as np"
   ]
  },
  {
   "cell_type": "markdown",
   "metadata": {
    "heading_collapsed": true,
    "hidden": true
   },
   "source": [
    "## 高低阈值自设"
   ]
  },
  {
   "cell_type": "code",
   "execution_count": null,
   "metadata": {
    "code_folding": [],
    "hidden": true
   },
   "outputs": [],
   "source": [
    "def edge(img):\n",
    "    #高斯模糊,降低噪声\n",
    "    blurred = cv2.GaussianBlur(img, (3, 3), 0)\n",
    "#灰度图像\n",
    "    gray = cv2.cvtColor(blurred, cv2.COLOR_RGB2GRAY)\n",
    "#图像梯度\n",
    "    xgrad = cv2.Sobel(gray, cv2.CV_16SC1, 1, 0)\n",
    "    ygrad = cv2.Sobel(gray, cv2.CV_16SC1, 0, 1)\n",
    "  #计算边缘\n",
    "    #50和150参数必须符合1：3或者1：2\n",
    "    edge_output = cv2.Canny(xgrad, ygrad, 35, 105)\n",
    "    #图一\n",
    "    cv2.namedWindow('edge', 0)\n",
    "    cv2.imshow(\"edge\", edge_output)\n",
    "    return edge_output\n",
    "    #图二（彩色）\n",
    "    #dst = cv.bitwise_and(img, img, mask = edge_output)\n",
    "    #cv.imshow('cedge', dst)\n",
    "\n",
    "src = cv2.imread('DSCN9383.JPG')\n",
    "#图三（原图）\n",
    "#cv2.namedWindow('def', 0)\n",
    "#cv2.imshow('def', src)\n",
    "picsave = edge(src)\n",
    "cv2.waitKey(0)\n",
    "cv2.destroyAllWindows()\n",
    "cv2.imwrite('test1.jpg', picsave)\n",
    "#cv2.waitKey(0)\n",
    "#cv2.destroyAllWindows()"
   ]
  },
  {
   "cell_type": "markdown",
   "metadata": {
    "heading_collapsed": true,
    "hidden": true
   },
   "source": [
    "## 阈值调节器"
   ]
  },
  {
   "cell_type": "code",
   "execution_count": null,
   "metadata": {
    "hidden": true
   },
   "outputs": [],
   "source": [
    "def CannyThreshold(lowThreshold):\n",
    "    detected_edges = cv2.GaussianBlur(gray, (3,3), 0)\n",
    "    detected_edges = cv2.Canny(detected_edges, lowThreshold, lowThreshold*ratio, apertureSize = kernel_size)\n",
    "    dst = cv2.bitwise_and(img, img, mask = detected_edges)  # just add some colours to edges from original image.\n",
    "    cv2.imshow('canny demo', detected_edges)\n",
    "\n",
    "lowThreshold = 0\n",
    "max_lowThreshold = 85\n",
    "ratio = 3\n",
    "kernel_size = 3\n",
    "\n",
    "img = cv2.imread('test2.jpg')\n",
    "gray = cv2.cvtColor(img,cv2.COLOR_BGR2GRAY)\n",
    "\n",
    "cv2.namedWindow('canny demo', 0)\n",
    "cv2.createTrackbar('Min threshold','canny demo',lowThreshold, max_lowThreshold, CannyThreshold)\n",
    "\n",
    "CannyThreshold(0)  # initialization\n",
    "if cv2.waitKey(0):\n",
    "    cv2.destroyAllWindows()"
   ]
  },
  {
   "cell_type": "markdown",
   "metadata": {},
   "source": [
    "# 效果显示"
   ]
  },
  {
   "cell_type": "code",
   "execution_count": 11,
   "metadata": {},
   "outputs": [],
   "source": [
    "cv2.namedWindow('image', 0)\n",
    "cv2.imshow('image', image)\n",
    "cv2.waitKey(0)\n",
    "cv2.destroyAllWindows()"
   ]
  },
  {
   "cell_type": "code",
   "execution_count": null,
   "metadata": {},
   "outputs": [],
   "source": [
    "cv2.imwrite('test2.jpg', image)"
   ]
  },
  {
   "cell_type": "code",
   "execution_count": null,
   "metadata": {},
   "outputs": [],
   "source": [
    "#直方图均衡化\n",
    "img = cv2.imread('test.jpg', 0)\n",
    "equ = cv2.equalizeHist(img)\n",
    "cv2.namedWindow('equ', 0)\n",
    "cv2.imshow('equ',equ)\n",
    "cv2.waitKey(0)\n",
    "cv2.destroyAllWindows()"
   ]
  }
 ],
 "metadata": {
  "kernelspec": {
   "display_name": "Python 3",
   "language": "python",
   "name": "python3"
  },
  "language_info": {
   "codemirror_mode": {
    "name": "ipython",
    "version": 3
   },
   "file_extension": ".py",
   "mimetype": "text/x-python",
   "name": "python",
   "nbconvert_exporter": "python",
   "pygments_lexer": "ipython3",
   "version": "3.7.1"
  }
 },
 "nbformat": 4,
 "nbformat_minor": 2
}
